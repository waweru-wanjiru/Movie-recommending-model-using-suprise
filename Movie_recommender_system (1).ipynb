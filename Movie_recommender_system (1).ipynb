{
  "nbformat": 4,
  "nbformat_minor": 0,
  "metadata": {
    "colab": {
      "name": "Movie recommender system.ipynb",
      "provenance": [],
      "collapsed_sections": [],
      "toc_visible": true
    },
    "kernelspec": {
      "name": "python3",
      "display_name": "Python 3"
    }
  },
  "cells": [
    {
      "cell_type": "markdown",
      "metadata": {
        "id": "TNeicnVIqGiw"
      },
      "source": [
        "# Building a movie recommender system using Surprise"
      ]
    },
    {
      "cell_type": "code",
      "metadata": {
        "id": "f89Q2Tmy__fv"
      },
      "source": [
        "### Installing  suprise\n",
        "! pip3 install scikit-surprise"
      ],
      "execution_count": null,
      "outputs": []
    },
    {
      "cell_type": "code",
      "metadata": {
        "id": "5poC9TecDho0"
      },
      "source": [
        "## importing packages\n",
        "from surprise import SVD\n",
        "from surprise import Dataset, Reader,SVD\n",
        "from surprise.model_selection import cross_validate\n",
        "import pandas as pd\n",
        "import numpy as np\n",
        "import matplotlib.pyplot as plt\n",
        "import seaborn as sns"
      ],
      "execution_count": null,
      "outputs": []
    },
    {
      "cell_type": "markdown",
      "metadata": {
        "id": "1iZpD9DNeA_Y"
      },
      "source": [
        "\n",
        "### 1. Load the dataset."
      ]
    },
    {
      "cell_type": "markdown",
      "metadata": {
        "id": "bfDBmVtfefi-"
      },
      "source": [
        "The dataset is from Movielens, with 100,000 rows and 5 columns. \n",
        "data recorded in different times."
      ]
    },
    {
      "cell_type": "code",
      "metadata": {
        "id": "Pu6yAcyXOhPr"
      },
      "source": [
        "# importing the data\n",
        "data=pd.read_csv('/content/movie_rating.csv')"
      ],
      "execution_count": null,
      "outputs": []
    },
    {
      "cell_type": "markdown",
      "metadata": {
        "id": "4gUHtyWdSTq4"
      },
      "source": [
        "### 2. Data understanding"
      ]
    },
    {
      "cell_type": "code",
      "metadata": {
        "id": "vtFOsppBSbGr",
        "colab": {
          "base_uri": "https://localhost:8080/",
          "height": 197
        },
        "outputId": "6c2e6f6b-34d9-49bb-b629-24d33da3891b"
      },
      "source": [
        "### the head of the data\n",
        "data.head()"
      ],
      "execution_count": null,
      "outputs": [
        {
          "output_type": "execute_result",
          "data": {
            "text/html": [
              "<div>\n",
              "<style scoped>\n",
              "    .dataframe tbody tr th:only-of-type {\n",
              "        vertical-align: middle;\n",
              "    }\n",
              "\n",
              "    .dataframe tbody tr th {\n",
              "        vertical-align: top;\n",
              "    }\n",
              "\n",
              "    .dataframe thead th {\n",
              "        text-align: right;\n",
              "    }\n",
              "</style>\n",
              "<table border=\"1\" class=\"dataframe\">\n",
              "  <thead>\n",
              "    <tr style=\"text-align: right;\">\n",
              "      <th></th>\n",
              "      <th>userId</th>\n",
              "      <th>movieId</th>\n",
              "      <th>rating</th>\n",
              "      <th>timestamp</th>\n",
              "    </tr>\n",
              "  </thead>\n",
              "  <tbody>\n",
              "    <tr>\n",
              "      <th>0</th>\n",
              "      <td>1</td>\n",
              "      <td>16</td>\n",
              "      <td>4.0</td>\n",
              "      <td>1217897793</td>\n",
              "    </tr>\n",
              "    <tr>\n",
              "      <th>1</th>\n",
              "      <td>1</td>\n",
              "      <td>24</td>\n",
              "      <td>1.5</td>\n",
              "      <td>1217895807</td>\n",
              "    </tr>\n",
              "    <tr>\n",
              "      <th>2</th>\n",
              "      <td>1</td>\n",
              "      <td>32</td>\n",
              "      <td>4.0</td>\n",
              "      <td>1217896246</td>\n",
              "    </tr>\n",
              "    <tr>\n",
              "      <th>3</th>\n",
              "      <td>1</td>\n",
              "      <td>47</td>\n",
              "      <td>4.0</td>\n",
              "      <td>1217896556</td>\n",
              "    </tr>\n",
              "    <tr>\n",
              "      <th>4</th>\n",
              "      <td>1</td>\n",
              "      <td>50</td>\n",
              "      <td>4.0</td>\n",
              "      <td>1217896523</td>\n",
              "    </tr>\n",
              "  </tbody>\n",
              "</table>\n",
              "</div>"
            ],
            "text/plain": [
              "   userId  movieId  rating   timestamp\n",
              "0       1       16     4.0  1217897793\n",
              "1       1       24     1.5  1217895807\n",
              "2       1       32     4.0  1217896246\n",
              "3       1       47     4.0  1217896556\n",
              "4       1       50     4.0  1217896523"
            ]
          },
          "metadata": {
            "tags": []
          },
          "execution_count": 52
        }
      ]
    },
    {
      "cell_type": "code",
      "metadata": {
        "id": "1kiBvxMoSny5",
        "colab": {
          "base_uri": "https://localhost:8080/",
          "height": 197
        },
        "outputId": "fa947012-f0af-4a68-9c69-e4d0ad006d97"
      },
      "source": [
        "### the tail of the data\n",
        "data.tail()"
      ],
      "execution_count": null,
      "outputs": [
        {
          "output_type": "execute_result",
          "data": {
            "text/html": [
              "<div>\n",
              "<style scoped>\n",
              "    .dataframe tbody tr th:only-of-type {\n",
              "        vertical-align: middle;\n",
              "    }\n",
              "\n",
              "    .dataframe tbody tr th {\n",
              "        vertical-align: top;\n",
              "    }\n",
              "\n",
              "    .dataframe thead th {\n",
              "        text-align: right;\n",
              "    }\n",
              "</style>\n",
              "<table border=\"1\" class=\"dataframe\">\n",
              "  <thead>\n",
              "    <tr style=\"text-align: right;\">\n",
              "      <th></th>\n",
              "      <th>userId</th>\n",
              "      <th>movieId</th>\n",
              "      <th>rating</th>\n",
              "      <th>timestamp</th>\n",
              "    </tr>\n",
              "  </thead>\n",
              "  <tbody>\n",
              "    <tr>\n",
              "      <th>105334</th>\n",
              "      <td>668</td>\n",
              "      <td>142488</td>\n",
              "      <td>4.0</td>\n",
              "      <td>1451535844</td>\n",
              "    </tr>\n",
              "    <tr>\n",
              "      <th>105335</th>\n",
              "      <td>668</td>\n",
              "      <td>142507</td>\n",
              "      <td>3.5</td>\n",
              "      <td>1451535889</td>\n",
              "    </tr>\n",
              "    <tr>\n",
              "      <th>105336</th>\n",
              "      <td>668</td>\n",
              "      <td>143385</td>\n",
              "      <td>4.0</td>\n",
              "      <td>1446388585</td>\n",
              "    </tr>\n",
              "    <tr>\n",
              "      <th>105337</th>\n",
              "      <td>668</td>\n",
              "      <td>144976</td>\n",
              "      <td>2.5</td>\n",
              "      <td>1448656898</td>\n",
              "    </tr>\n",
              "    <tr>\n",
              "      <th>105338</th>\n",
              "      <td>668</td>\n",
              "      <td>148626</td>\n",
              "      <td>4.5</td>\n",
              "      <td>1451148148</td>\n",
              "    </tr>\n",
              "  </tbody>\n",
              "</table>\n",
              "</div>"
            ],
            "text/plain": [
              "        userId  movieId  rating   timestamp\n",
              "105334     668   142488     4.0  1451535844\n",
              "105335     668   142507     3.5  1451535889\n",
              "105336     668   143385     4.0  1446388585\n",
              "105337     668   144976     2.5  1448656898\n",
              "105338     668   148626     4.5  1451148148"
            ]
          },
          "metadata": {
            "tags": []
          },
          "execution_count": 53
        }
      ]
    },
    {
      "cell_type": "code",
      "metadata": {
        "id": "fzJEvWs2Sws2",
        "colab": {
          "base_uri": "https://localhost:8080/"
        },
        "outputId": "54cca318-a110-4608-c27f-f011aa4115c7"
      },
      "source": [
        "### data information\n",
        "data.info()"
      ],
      "execution_count": null,
      "outputs": [
        {
          "output_type": "stream",
          "text": [
            "<class 'pandas.core.frame.DataFrame'>\n",
            "RangeIndex: 105339 entries, 0 to 105338\n",
            "Data columns (total 4 columns):\n",
            " #   Column     Non-Null Count   Dtype  \n",
            "---  ------     --------------   -----  \n",
            " 0   userId     105339 non-null  int64  \n",
            " 1   movieId    105339 non-null  int64  \n",
            " 2   rating     105339 non-null  float64\n",
            " 3   timestamp  105339 non-null  int64  \n",
            "dtypes: float64(1), int64(3)\n",
            "memory usage: 3.2 MB\n"
          ],
          "name": "stdout"
        }
      ]
    },
    {
      "cell_type": "code",
      "metadata": {
        "id": "joS90P77lTGw",
        "colab": {
          "base_uri": "https://localhost:8080/"
        },
        "outputId": "d0e35c17-0354-4f9b-dc8c-87d2f2876a6e"
      },
      "source": [
        "### the shape of the dataset\n",
        "data.shape"
      ],
      "execution_count": null,
      "outputs": [
        {
          "output_type": "execute_result",
          "data": {
            "text/plain": [
              "(105339, 4)"
            ]
          },
          "metadata": {
            "tags": []
          },
          "execution_count": 55
        }
      ]
    },
    {
      "cell_type": "markdown",
      "metadata": {
        "id": "JlVnZgQjUMcv"
      },
      "source": [
        "### 3. Data cleaning"
      ]
    },
    {
      "cell_type": "code",
      "metadata": {
        "id": "pdS67ZtXS9zg"
      },
      "source": [
        "### dropping the Timestamp column\n",
        "data.drop('timestamp',1,inplace=True)"
      ],
      "execution_count": null,
      "outputs": []
    },
    {
      "cell_type": "code",
      "metadata": {
        "id": "KrqLOz9AVKZx",
        "colab": {
          "base_uri": "https://localhost:8080/"
        },
        "outputId": "62762114-3cbc-4045-f1c6-9d0409506131"
      },
      "source": [
        "### looking for missing values\n",
        "data.isnull().sum()"
      ],
      "execution_count": null,
      "outputs": [
        {
          "output_type": "execute_result",
          "data": {
            "text/plain": [
              "userId     0\n",
              "movieId    0\n",
              "rating     0\n",
              "dtype: int64"
            ]
          },
          "metadata": {
            "tags": []
          },
          "execution_count": 57
        }
      ]
    },
    {
      "cell_type": "code",
      "metadata": {
        "id": "j-RwsiIjVhA_",
        "colab": {
          "base_uri": "https://localhost:8080/"
        },
        "outputId": "4fe6e093-2403-43b3-8e5c-003150428550"
      },
      "source": [
        "## looking for duplicates\n",
        "data.duplicated().any()"
      ],
      "execution_count": null,
      "outputs": [
        {
          "output_type": "execute_result",
          "data": {
            "text/plain": [
              "False"
            ]
          },
          "metadata": {
            "tags": []
          },
          "execution_count": 58
        }
      ]
    },
    {
      "cell_type": "code",
      "metadata": {
        "id": "RJVqZEBmVqIx",
        "colab": {
          "base_uri": "https://localhost:8080/",
          "height": 296
        },
        "outputId": "3edff352-2d31-4c0d-f17a-9cf29137abad"
      },
      "source": [
        "### ouliers on movie rating column\n",
        "sns.boxplot(x='rating',data=data,color='pink')"
      ],
      "execution_count": null,
      "outputs": [
        {
          "output_type": "execute_result",
          "data": {
            "text/plain": [
              "<matplotlib.axes._subplots.AxesSubplot at 0x7fc6c7eb5b00>"
            ]
          },
          "metadata": {
            "tags": []
          },
          "execution_count": 59
        },
        {
          "output_type": "display_data",
          "data": {
            "image/png": "[encoded data removed]",
            "text/plain": [
              "<Figure size 432x288 with 1 Axes>"
            ]
          },
          "metadata": {
            "tags": [],
            "needs_background": "light"
          }
        }
      ]
    },
    {
      "cell_type": "markdown",
      "metadata": {
        "id": "IipC9SftWM9t"
      },
      "source": [
        "we shall not remove the outliers because that is a 0 rating movie\n",
        "and a 1 rating movie."
      ]
    },
    {
      "cell_type": "markdown",
      "metadata": {
        "id": "wZq0FC9BWVm4"
      },
      "source": [
        "### 4. Exploratory data analysis"
      ]
    },
    {
      "cell_type": "code",
      "metadata": {
        "id": "9WB1xNtrWUwM",
        "colab": {
          "base_uri": "https://localhost:8080/"
        },
        "outputId": "95502c5f-500d-4fc7-c48e-8ec1095f4ca0"
      },
      "source": [
        "## number of movies rated\n",
        "num_movies=data['movieId'].nunique()\n",
        "print(num_movies, 'movies')"
      ],
      "execution_count": null,
      "outputs": [
        {
          "output_type": "stream",
          "text": [
            "10325 movies\n"
          ],
          "name": "stdout"
        }
      ]
    },
    {
      "cell_type": "code",
      "metadata": {
        "id": "GrGFd04FXXHX",
        "colab": {
          "base_uri": "https://localhost:8080/"
        },
        "outputId": "3648d807-c3fd-4fa0-f786-3084ce8148f2"
      },
      "source": [
        "## number of users who rated the movies\n",
        "num_users=data['userId'].nunique()\n",
        "print(num_users, 'users')"
      ],
      "execution_count": null,
      "outputs": [
        {
          "output_type": "stream",
          "text": [
            "668 users\n"
          ],
          "name": "stdout"
        }
      ]
    },
    {
      "cell_type": "code",
      "metadata": {
        "id": "2vf4Ly1fZFNB",
        "colab": {
          "base_uri": "https://localhost:8080/"
        },
        "outputId": "e197d6e3-65f4-4e08-cbf2-b9ddf5545e40"
      },
      "source": [
        "### sparsity of the rating..\n",
        "\n",
        "## available  rating\n",
        "available_rating=data['rating'].count()\n",
        "print('available rating',available_rating)\n",
        "### total rating\n",
        "total=num_movies*num_users\n",
        "print('expected total rating',total)\n",
        "\n",
        "## missing rating\n",
        "missing=total-available_rating\n",
        "print('missing rating',missing)\n",
        "\n",
        "## sparsity of the rating\n",
        "sparsity=(missing/total)*100\n",
        "print('sparsity rating',sparsity)"
      ],
      "execution_count": null,
      "outputs": [
        {
          "output_type": "stream",
          "text": [
            "available rating 105339\n",
            "expected total rating 6897100\n",
            "missing rating 6791761\n",
            "sparsity rating 98.47270591987936\n"
          ],
          "name": "stdout"
        }
      ]
    },
    {
      "cell_type": "markdown",
      "metadata": {
        "id": "vxjpPhj2eXmi"
      },
      "source": [
        "A sparsity rating of 98.47% is really good for our model\n"
      ]
    },
    {
      "cell_type": "code",
      "metadata": {
        "id": "l7fDdeY6d8yP",
        "colab": {
          "base_uri": "https://localhost:8080/",
          "height": 290
        },
        "outputId": "73aa2482-a4ab-4f24-fc3f-1579c468244d"
      },
      "source": [
        "### rating distribution\n",
        "data['rating'].value_counts().plot(kind='bar',color='pink')"
      ],
      "execution_count": null,
      "outputs": [
        {
          "output_type": "execute_result",
          "data": {
            "text/plain": [
              "<matplotlib.axes._subplots.AxesSubplot at 0x7fc6c7e909e8>"
            ]
          },
          "metadata": {
            "tags": []
          },
          "execution_count": 63
        },
        {
          "output_type": "display_data",
          "data": {
            "image/png": "[encoded data removed]",
            "text/plain": [
              "<Figure size 432x288 with 1 Axes>"
            ]
          },
          "metadata": {
            "tags": [],
            "needs_background": "light"
          }
        }
      ]
    },
    {
      "cell_type": "markdown",
      "metadata": {
        "id": "0TSeACRBfMAL"
      },
      "source": [
        "###  5. Data manipulation"
      ]
    },
    {
      "cell_type": "markdown",
      "metadata": {
        "id": "9l8EidoKgprf"
      },
      "source": [
        "Lets remove movies that have few ratings and users who have few ratings..\n",
        "\n",
        "This is because its hard to predict movies that have very few ratings and the model will not be able to pickpoint who are suppose to watch that movie and it will affect our model.\n",
        "\n",
        "Same case to users people who have little number of rating we cant tell easily what type of movie they like."
      ]
    },
    {
      "cell_type": "code",
      "metadata": {
        "id": "np5N19-7kBVj"
      },
      "source": [
        " ### filter movies less than 5 ratings\n",
        "filter_movies=data['movieId'].value_counts() > 5\n",
        "filter_movies=filter_movies[filter_movies].index.tolist()"
      ],
      "execution_count": null,
      "outputs": []
    },
    {
      "cell_type": "code",
      "metadata": {
        "id": "NnpATxCy-sj3"
      },
      "source": [
        "### filter users who have not rated more than 5 movies\n",
        "filter_user=data['userId'].value_counts() > 5\n",
        "filter_user=filter_user[filter_user].index.tolist()"
      ],
      "execution_count": null,
      "outputs": []
    },
    {
      "cell_type": "code",
      "metadata": {
        "id": "dvfYfFr2_Hyn",
        "colab": {
          "base_uri": "https://localhost:8080/"
        },
        "outputId": "dcaa9841-a720-4169-de6a-daae4d136c34"
      },
      "source": [
        "### removing the low rated movies and low rating users\n",
        "df=data[(data['movieId'].isin(filter_movies)) & (data['userId'].isin(filter_user))]\n",
        "print('filtered data :-',df.shape)\n",
        "print('original data :-',data.shape)"
      ],
      "execution_count": null,
      "outputs": [
        {
          "output_type": "stream",
          "text": [
            "filtered data :- (91701, 3)\n",
            "original data :- (105339, 3)\n"
          ],
          "name": "stdout"
        }
      ]
    },
    {
      "cell_type": "markdown",
      "metadata": {
        "id": "yHj65oUbBs9k"
      },
      "source": [
        "We have reduced our data with less than 10% which is fine,\n",
        "our dataset is clean for modelling"
      ]
    },
    {
      "cell_type": "markdown",
      "metadata": {
        "id": "7U5sCmz3CCBy"
      },
      "source": [
        "### 6. Data preprocessing"
      ]
    },
    {
      "cell_type": "markdown",
      "metadata": {
        "id": "bPcl65t_DSMO"
      },
      "source": [
        "Creating train and test datasets"
      ]
    },
    {
      "cell_type": "code",
      "metadata": {
        "id": "MiStVeyACBCq"
      },
      "source": [
        "### creating columns to use for training\n",
        "col=['userId','movieId','rating']"
      ],
      "execution_count": null,
      "outputs": []
    },
    {
      "cell_type": "code",
      "metadata": {
        "id": "fBnokfZVEQFs"
      },
      "source": [
        "\n",
        " ## creading a reader with our scale 0f 0.5 to 5\n",
        "reader=Reader(rating_scale=(0.5,5))\n",
        "## create a  suprise dataset\n",
        "df2=Dataset.load_from_df(df[col],reader)"
      ],
      "execution_count": null,
      "outputs": []
    },
    {
      "cell_type": "code",
      "metadata": {
        "id": "x739x4UwGN_3"
      },
      "source": [
        "### create prediction set and train set\n",
        "train=df2.build_full_trainset()\n",
        "test=train.build_anti_testset()"
      ],
      "execution_count": null,
      "outputs": []
    },
    {
      "cell_type": "markdown",
      "metadata": {
        "id": "CsRYKzxFIh96"
      },
      "source": [
        "### 7. Modelling"
      ]
    },
    {
      "cell_type": "code",
      "metadata": {
        "id": "-ZFoA7hFIfoC"
      },
      "source": [
        "## we use singular  value decomposition to create our model.\n",
        "\n",
        "# lets specify our algorithm\n",
        "svd=SVD(n_epochs=25,verbose=True)"
      ],
      "execution_count": null,
      "outputs": []
    },
    {
      "cell_type": "code",
      "metadata": {
        "id": "CnxP_OsgLVNk",
        "colab": {
          "base_uri": "https://localhost:8080/"
        },
        "outputId": "cba1df4e-525c-44d6-959b-7bcb8bbec6ef"
      },
      "source": [
        "## training our model using cross validation\n",
        "cross_validate(svd,df2,measures=['RMSE','MAE'],cv=5,verbose=True)"
      ],
      "execution_count": null,
      "outputs": [
        {
          "output_type": "stream",
          "text": [
            "Processing epoch 0\n",
            "Processing epoch 1\n",
            "Processing epoch 2\n",
            "Processing epoch 3\n",
            "Processing epoch 4\n",
            "Processing epoch 5\n",
            "Processing epoch 6\n",
            "Processing epoch 7\n",
            "Processing epoch 8\n",
            "Processing epoch 9\n",
            "Processing epoch 10\n",
            "Processing epoch 11\n",
            "Processing epoch 12\n",
            "Processing epoch 13\n",
            "Processing epoch 14\n",
            "Processing epoch 15\n",
            "Processing epoch 16\n",
            "Processing epoch 17\n",
            "Processing epoch 18\n",
            "Processing epoch 19\n",
            "Processing epoch 20\n",
            "Processing epoch 21\n",
            "Processing epoch 22\n",
            "Processing epoch 23\n",
            "Processing epoch 24\n",
            "Processing epoch 0\n",
            "Processing epoch 1\n",
            "Processing epoch 2\n",
            "Processing epoch 3\n",
            "Processing epoch 4\n",
            "Processing epoch 5\n",
            "Processing epoch 6\n",
            "Processing epoch 7\n",
            "Processing epoch 8\n",
            "Processing epoch 9\n",
            "Processing epoch 10\n",
            "Processing epoch 11\n",
            "Processing epoch 12\n",
            "Processing epoch 13\n",
            "Processing epoch 14\n",
            "Processing epoch 15\n",
            "Processing epoch 16\n",
            "Processing epoch 17\n",
            "Processing epoch 18\n",
            "Processing epoch 19\n",
            "Processing epoch 20\n",
            "Processing epoch 21\n",
            "Processing epoch 22\n",
            "Processing epoch 23\n",
            "Processing epoch 24\n",
            "Processing epoch 0\n",
            "Processing epoch 1\n",
            "Processing epoch 2\n",
            "Processing epoch 3\n",
            "Processing epoch 4\n",
            "Processing epoch 5\n",
            "Processing epoch 6\n",
            "Processing epoch 7\n",
            "Processing epoch 8\n",
            "Processing epoch 9\n",
            "Processing epoch 10\n",
            "Processing epoch 11\n",
            "Processing epoch 12\n",
            "Processing epoch 13\n",
            "Processing epoch 14\n",
            "Processing epoch 15\n",
            "Processing epoch 16\n",
            "Processing epoch 17\n",
            "Processing epoch 18\n",
            "Processing epoch 19\n",
            "Processing epoch 20\n",
            "Processing epoch 21\n",
            "Processing epoch 22\n",
            "Processing epoch 23\n",
            "Processing epoch 24\n",
            "Processing epoch 0\n",
            "Processing epoch 1\n",
            "Processing epoch 2\n",
            "Processing epoch 3\n",
            "Processing epoch 4\n",
            "Processing epoch 5\n",
            "Processing epoch 6\n",
            "Processing epoch 7\n",
            "Processing epoch 8\n",
            "Processing epoch 9\n",
            "Processing epoch 10\n",
            "Processing epoch 11\n",
            "Processing epoch 12\n",
            "Processing epoch 13\n",
            "Processing epoch 14\n",
            "Processing epoch 15\n",
            "Processing epoch 16\n",
            "Processing epoch 17\n",
            "Processing epoch 18\n",
            "Processing epoch 19\n",
            "Processing epoch 20\n",
            "Processing epoch 21\n",
            "Processing epoch 22\n",
            "Processing epoch 23\n",
            "Processing epoch 24\n",
            "Processing epoch 0\n",
            "Processing epoch 1\n",
            "Processing epoch 2\n",
            "Processing epoch 3\n",
            "Processing epoch 4\n",
            "Processing epoch 5\n",
            "Processing epoch 6\n",
            "Processing epoch 7\n",
            "Processing epoch 8\n",
            "Processing epoch 9\n",
            "Processing epoch 10\n",
            "Processing epoch 11\n",
            "Processing epoch 12\n",
            "Processing epoch 13\n",
            "Processing epoch 14\n",
            "Processing epoch 15\n",
            "Processing epoch 16\n",
            "Processing epoch 17\n",
            "Processing epoch 18\n",
            "Processing epoch 19\n",
            "Processing epoch 20\n",
            "Processing epoch 21\n",
            "Processing epoch 22\n",
            "Processing epoch 23\n",
            "Processing epoch 24\n",
            "Evaluating RMSE, MAE of algorithm SVD on 5 split(s).\n",
            "\n",
            "                  Fold 1  Fold 2  Fold 3  Fold 4  Fold 5  Mean    Std     \n",
            "RMSE (testset)    0.8575  0.8583  0.8516  0.8525  0.8603  0.8560  0.0034  \n",
            "MAE (testset)     0.6585  0.6592  0.6572  0.6578  0.6623  0.6590  0.0018  \n",
            "Fit time          5.21    5.17    5.14    5.13    5.14    5.16    0.03    \n",
            "Test time         0.13    0.37    0.12    0.13    0.30    0.21    0.10    \n"
          ],
          "name": "stdout"
        },
        {
          "output_type": "execute_result",
          "data": {
            "text/plain": [
              "{'fit_time': (5.213434934616089,\n",
              "  5.172960042953491,\n",
              "  5.136235952377319,\n",
              "  5.13006591796875,\n",
              "  5.1383748054504395),\n",
              " 'test_mae': array([0.6584739 , 0.65924746, 0.65721292, 0.65782555, 0.66228622]),\n",
              " 'test_rmse': array([0.85745966, 0.85834641, 0.85159802, 0.85248869, 0.86027342]),\n",
              " 'test_time': (0.13051724433898926,\n",
              "  0.36981725692749023,\n",
              "  0.11884450912475586,\n",
              "  0.13268804550170898,\n",
              "  0.29538869857788086)}"
            ]
          },
          "metadata": {
            "tags": []
          },
          "execution_count": 81
        }
      ]
    },
    {
      "cell_type": "markdown",
      "metadata": {
        "id": "m50UZwe8TZqw"
      },
      "source": [
        "From above we can see that we have mean RMSE of 0.8545 and mean MAE of 0.65, which means we have deviated from the actual mean with 0.65 which is not that bad"
      ]
    },
    {
      "cell_type": "markdown",
      "metadata": {
        "id": "7iyV-7nST0XT"
      },
      "source": [
        "### 8. Prediction"
      ]
    },
    {
      "cell_type": "code",
      "metadata": {
        "id": "lT5rr3MHTyo9",
        "colab": {
          "base_uri": "https://localhost:8080/"
        },
        "outputId": "6cbdb321-6f64-4ac8-eecd-59fbd735a978"
      },
      "source": [
        "### predict using test data\n",
        "predict=svd.test(test)\n",
        "predict[1]"
      ],
      "execution_count": null,
      "outputs": [
        {
          "output_type": "execute_result",
          "data": {
            "text/plain": [
              "Prediction(uid=1, iid=3, r_ui=3.5758225101143934, est=3.0661552409012787, details={'was_impossible': False})"
            ]
          },
          "metadata": {
            "tags": []
          },
          "execution_count": 84
        }
      ]
    },
    {
      "cell_type": "markdown",
      "metadata": {
        "id": "gr4Pem9ag2Zz"
      },
      "source": [
        "From above we can see that our model is working well,\n",
        "The details shows that 'was_ impossible : false' , which means the prediction\n",
        "was possible\n",
        "\n",
        "The model has predicted that user one would have rated movie with the movieID 3 as 3.."
      ]
    }
  ]
}